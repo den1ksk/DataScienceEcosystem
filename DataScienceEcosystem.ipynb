{
 "cells": [
  {
   "cell_type": "markdown",
   "id": "c5feb663-d161-4bc1-98c2-866e01c83cb3",
   "metadata": {},
   "source": [
    "# Data Science Tools and Ecosystem"
   ]
  },
  {
   "cell_type": "markdown",
   "id": "dd89c39d-1b16-4f5e-8f38-7580fffb47c4",
   "metadata": {},
   "source": [
    "In this notebook, Data Science Tools and Ecosystem are summarized"
   ]
  },
  {
   "cell_type": "markdown",
   "id": "f482c6c8-5933-4ff3-afff-4f1d579887b5",
   "metadata": {},
   "source": [
    "**Objectives:**\n",
    "- List popular Data Science languages\n",
    "- Describe common Data Science libraries\n",
    "- Create and display tables\n",
    "- Perform basic arithmetic in Python\n",
    "- Convert minutes to hours"
   ]
  },
  {
   "cell_type": "markdown",
   "id": "48a5dfb0-350a-4ad6-a435-4d3a68fe1f90",
   "metadata": {},
   "source": [
    "Some of the popular languages that Data Scientists use are:\n",
    "1. Python\n",
    "2. R\n",
    "3. SQL\n",
    "4. Julia"
   ]
  },
  {
   "cell_type": "markdown",
   "id": "6db3dfb8-d752-42ed-a5b5-844f8bb06a8d",
   "metadata": {},
   "source": [
    "Some of the commonly used libraries used by Data Scientists include:\n",
    "1. Pandas\n",
    "2. Seaborn\n",
    "3. Matplotlib\n",
    "4. Numpy\n",
    "5. ggplot"
   ]
  },
  {
   "cell_type": "markdown",
   "id": "0f1d85ac-4e59-420c-b8ad-77ab2406b395",
   "metadata": {},
   "source": [
    "| Data Science Tools |\n",
    "|--------------------|\n",
    "| Jupyter Notebook   |\n",
    "| Rstudio            |\n",
    "| Apache Zeppelin    |"
   ]
  },
  {
   "cell_type": "markdown",
   "id": "e1898bf4-2083-4619-aa44-083e9abda92e",
   "metadata": {},
   "source": [
    "### Below are a few examples of evaluating arithmetic expressions in Python."
   ]
  },
  {
   "cell_type": "code",
   "execution_count": 2,
   "id": "27d266da-e7be-441d-bc3e-41dc789d991f",
   "metadata": {},
   "outputs": [
    {
     "data": {
      "text/plain": [
       "17"
      ]
     },
     "execution_count": 2,
     "metadata": {},
     "output_type": "execute_result"
    }
   ],
   "source": [
    "# This a simple arithmetic expression to mutiply then add integers.\n",
    "(3*4)+5"
   ]
  },
  {
   "cell_type": "code",
   "execution_count": 4,
   "id": "2d13344f-b0b8-4ffb-9323-7c2477be030e",
   "metadata": {},
   "outputs": [
    {
     "data": {
      "text/plain": [
       "3"
      ]
     },
     "execution_count": 4,
     "metadata": {},
     "output_type": "execute_result"
    }
   ],
   "source": [
    "# This will convert 200 minutes to hours by diving by 60\n",
    "200//60"
   ]
  },
  {
   "cell_type": "markdown",
   "id": "635313b6-0f94-40f1-a73b-d92a3661121f",
   "metadata": {},
   "source": [
    "## Author\r",
    "Denis Kolenko\r\n"
   ]
  },
  {
   "cell_type": "code",
   "execution_count": null,
   "id": "88fccec5-ef8e-4d61-808c-797994e5b922",
   "metadata": {},
   "outputs": [],
   "source": []
  }
 ],
 "metadata": {
  "kernelspec": {
   "display_name": "Python 3 (ipykernel)",
   "language": "python",
   "name": "python3"
  },
  "language_info": {
   "codemirror_mode": {
    "name": "ipython",
    "version": 3
   },
   "file_extension": ".py",
   "mimetype": "text/x-python",
   "name": "python",
   "nbconvert_exporter": "python",
   "pygments_lexer": "ipython3",
   "version": "3.11.7"
  }
 },
 "nbformat": 4,
 "nbformat_minor": 5
}
